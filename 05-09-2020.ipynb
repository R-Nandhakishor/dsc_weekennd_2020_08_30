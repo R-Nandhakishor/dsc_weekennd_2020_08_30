{
 "cells": [
  {
   "cell_type": "code",
   "execution_count": 6,
   "metadata": {},
   "outputs": [
    {
     "name": "stdout",
     "output_type": "stream",
     "text": [
      "Enter the 1st number45\n",
      "Enter the 2nd number76\n",
      "The Addition of two numbers are  121\n",
      "The Subtraction of two numbers are  -31\n",
      "The Multiplication of two numbers are  3420\n",
      "The Divsion of two numbers are  0.5921052631578947\n",
      "The Int_Division of two numbers are  0\n",
      "The Remainder of two numbers are  45\n",
      "Whether the 1st number is greater than the second:  False\n"
     ]
    }
   ],
   "source": [
    "Number1=int(input(\"Enter the 1st number\"))\n",
    "Number2=int(input(\"Enter the 2nd number\"))\n",
    "#Getting input from user and typecast coversion\n",
    "                  \n",
    "Number3=Number1+ Number2\n",
    "Number4=Number1-Number2\n",
    "Number5=Number1*Number2\n",
    "Number6=Number1/Number2\n",
    "Number7=Number1//Number2\n",
    "Number8=Number1%Number2\n",
    "#Applying operators to operands\n",
    "\n",
    "print(\"The Addition of two numbers are \",Number3)\n",
    "print(\"The Subtraction of two numbers are \",Number4)\n",
    "print(\"The Multiplication of two numbers are \",Number5)\n",
    "print(\"The Divsion of two numbers are \",Number6)\n",
    "print(\"The Int_Division of two numbers are \",Number7)\n",
    "print(\"The Remainder of two numbers are \",Number8)\n",
    "                                  \n",
    "#Printing the results\n",
    "  \n",
    "print(\"Whether the 1st number is greater than the second: \",Number1>Number2)\n",
    "#Usage of relational operators\n",
    "      \n",
    "\n",
    "                  \n",
    "                  "
   ]
  },
  {
   "cell_type": "code",
   "execution_count": 7,
   "metadata": {},
   "outputs": [
    {
     "name": "stdout",
     "output_type": "stream",
     "text": [
      "Enter the principle amount4000\n",
      "Enter the number of years5\n",
      "Enter the rate of interest10\n",
      "The simple interest is:  2000.0\n"
     ]
    }
   ],
   "source": [
    " #Program to find the simple interest: Formula=(PNR/100)\n",
    "\n",
    "P=int(input(\"Enter the principle amount\"))\n",
    "N=int(input(\"Enter the number of years\"))\n",
    "R=int(input(\"Enter the rate of interest\"))\n",
    "SI=(P*N*R)/100\n",
    "print(\"The simple interest is: \",SI)\n"
   ]
  },
  {
   "cell_type": "code",
   "execution_count": null,
   "metadata": {},
   "outputs": [],
   "source": []
  },
  {
   "cell_type": "code",
   "execution_count": null,
   "metadata": {},
   "outputs": [],
   "source": []
  }
 ],
 "metadata": {
  "kernelspec": {
   "display_name": "Python 3",
   "language": "python",
   "name": "python3"
  },
  "language_info": {
   "codemirror_mode": {
    "name": "ipython",
    "version": 3
   },
   "file_extension": ".py",
   "mimetype": "text/x-python",
   "name": "python",
   "nbconvert_exporter": "python",
   "pygments_lexer": "ipython3",
   "version": "3.8.3"
  }
 },
 "nbformat": 4,
 "nbformat_minor": 4
}
